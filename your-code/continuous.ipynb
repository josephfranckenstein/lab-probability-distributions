{
 "cells": [
  {
   "cell_type": "markdown",
   "metadata": {},
   "source": [
    "# Before your start:\n",
    "\n",
    "    Read the README.md file\n",
    "    Comment as much as you can and use the resources (README.md file)\n",
    "    Happy learning!"
   ]
  },
  {
   "cell_type": "markdown",
   "metadata": {},
   "source": [
    "In this exercise, we  will generate random numbers from the continuous disributions we learned in the lesson. There are two ways to generate random numbers:\n",
    "\n",
    "1. Using the numpy library \n",
    "1. using the Scipy library \n",
    "\n",
    "Use either or both of the lbraries in this exercise."
   ]
  },
  {
   "cell_type": "markdown",
   "metadata": {},
   "source": [
    "## Uniform Distribution\n",
    "\n",
    "To generate uniform random numbers between any two given values using scipy, we can either use the following code or the code that we have\n",
    "discussed in class:"
   ]
  },
  {
   "cell_type": "code",
   "execution_count": 3,
   "metadata": {},
   "outputs": [
    {
     "name": "stdout",
     "output_type": "stream",
     "text": [
      "[2.29794882 2.94719221 2.85581523 2.36830968 2.5234691  2.76784793\n",
      " 2.86707211 2.35631383 2.60546681 2.96529176]\n"
     ]
    }
   ],
   "source": [
    "from scipy.stats import uniform\n",
    "import numpy as np\n",
    "x = uniform.rvs(size=10)\n",
    "a = 2\n",
    "b = 3\n",
    "randoms  = a + (b-a)*x\n",
    "print(randoms)"
   ]
  },
  {
   "cell_type": "markdown",
   "metadata": {},
   "source": [
    "**Your task:**\n",
    "\n",
    "1. Based on the code above, write a function that generates uniformly distributed random numbers. There are several requirements for your function:\n",
    "    * It should accept 3 parameters: \n",
    "        * `bottom` - the lower boundary of the generated numbers\n",
    "        * `ceiling` - the upper boundary of the generated numbers\n",
    "        * `count` - how many numbers to generate\n",
    "    * It should return an array of uniformly distributed random numbers\n",
    "\n",
    "1. Call your function with 2 sets of params below:\n",
    "    * bottom=10, ceiling=15, count=100\n",
    "    * bottom=10, ceiling=60, count=1,000\n",
    "\n",
    "1. Plot the uniform distributions generated above using histograms, where x axis is the value and y axis is the count. Let the histogram's number of bins be 10.\n",
    "\n",
    "Your output should look like below:\n",
    "\n",
    "![uniform distribution](ud.png)"
   ]
  },
  {
   "cell_type": "code",
   "execution_count": 4,
   "metadata": {},
   "outputs": [],
   "source": [
    "import matplotlib.pyplot as plt\n",
    "from scipy import stats"
   ]
  },
  {
   "cell_type": "code",
   "execution_count": 5,
   "metadata": {},
   "outputs": [
    {
     "name": "stdout",
     "output_type": "stream",
     "text": [
      "[0.38744058 0.50603767 0.72413536 0.25724533 0.61135525 0.29446456\n",
      " 0.41610948 0.82276555 0.92984759 0.14643741 0.95079576 0.96953303\n",
      " 0.36136121 0.33258941 0.43224477 0.96341199 0.54836835 0.67007042\n",
      " 0.15290129 0.74318059 0.8931956  0.18258083 0.6450918  0.02447237\n",
      " 0.12261232 0.12484969 0.14703577 0.15298616 0.15953096 0.70131237\n",
      " 0.8509344  0.69809866 0.95541417 0.1098926  0.56363063 0.9317819\n",
      " 0.28060412 0.28146736 0.34718534 0.69090527 0.41491181 0.45678914\n",
      " 0.29384318 0.92724996 0.16757192 0.96420715 0.46806643 0.75350932\n",
      " 0.8862269  0.39427923 0.77310977 0.12473419 0.64534939 0.34924155\n",
      " 0.96525328 0.5806816  0.20547363 0.08060994 0.94825516 0.12419708\n",
      " 0.57481967 0.39092344 0.49533673 0.56035184 0.99098593 0.26749465\n",
      " 0.90447034 0.06211173 0.24549243 0.92855968 0.98866717 0.38477624\n",
      " 0.85991733 0.85991059 0.18618233 0.60412966 0.1625378  0.39126645\n",
      " 0.94970765 0.67170076 0.88557257 0.13736227 0.68713932 0.77694864\n",
      " 0.7203143  0.20350954 0.4303609  0.3355999  0.89791972 0.73869475\n",
      " 0.80776323 0.80053662 0.72088005 0.50819199 0.94752463 0.62766845\n",
      " 0.42532801 0.37423779 0.85418002 0.76891773]\n",
      "[2.77431440e-01 8.14760054e-01 5.22856348e-01 8.41761832e-01\n",
      " 8.39194340e-01 6.70777645e-01 6.88972417e-01 3.46196832e-01\n",
      " 9.16237593e-01 8.89354563e-01 7.42572487e-01 2.54656312e-01\n",
      " 6.47414901e-01 3.38465812e-01 3.99766272e-01 5.74486787e-01\n",
      " 5.32787038e-01 2.51188244e-01 6.85642146e-02 4.00327525e-01\n",
      " 8.11969488e-01 8.54141171e-01 3.93642034e-01 2.94232870e-01\n",
      " 8.04306809e-01 6.14704408e-01 5.90613644e-01 4.77927066e-01\n",
      " 9.27828278e-01 1.08681327e-01 7.18097751e-02 8.72003904e-01\n",
      " 4.29464689e-01 1.80502397e-01 8.90206693e-01 6.76101898e-02\n",
      " 9.01005045e-01 8.57010665e-01 7.65407874e-01 7.27328096e-01\n",
      " 4.46845120e-01 1.74921755e-01 7.83564529e-01 8.15002121e-01\n",
      " 1.38686792e-01 4.33396250e-01 1.25049946e-01 6.70326587e-02\n",
      " 7.51663669e-04 8.99380995e-01 9.85806113e-01 9.63601761e-01\n",
      " 5.94752753e-01 8.16449804e-03 9.48657768e-01 7.85208002e-01\n",
      " 4.79756685e-01 7.30294892e-01 4.21555149e-01 2.99441986e-01\n",
      " 8.23606191e-01 8.35869421e-01 4.73958186e-01 5.25362125e-01\n",
      " 3.93426847e-02 3.39527249e-01 2.57789399e-02 7.30469123e-01\n",
      " 1.10510740e-01 3.11349319e-01 9.97597409e-01 6.97532611e-01\n",
      " 3.20349800e-01 9.15920922e-01 5.64370421e-01 8.76808966e-01\n",
      " 2.11394700e-01 8.89857201e-01 2.66422434e-01 6.97181681e-01\n",
      " 2.68763021e-03 1.23980155e-01 9.25951147e-02 8.85199339e-01\n",
      " 2.49317089e-01 1.60959995e-01 4.99098804e-01 5.43576342e-01\n",
      " 4.54564639e-01 1.68154774e-01 7.10708087e-01 9.63642357e-01\n",
      " 1.51307762e-02 9.23400879e-01 8.92677603e-01 6.23906538e-03\n",
      " 1.41726927e-02 8.29258039e-01 2.23223555e-01 3.93342046e-01\n",
      " 4.64764086e-01 9.90874319e-01 5.12781741e-01 5.35554819e-01\n",
      " 4.64301873e-01 5.88404979e-01 7.38470791e-01 4.38542982e-01\n",
      " 2.20768722e-01 7.58485323e-01 4.31196971e-01 3.44488316e-01\n",
      " 7.70203687e-01 7.52864042e-01 9.66830701e-01 3.50488747e-02\n",
      " 5.61834065e-01 6.29776593e-01 6.84855946e-01 9.96269192e-01\n",
      " 4.49979195e-01 9.89688312e-01 5.51782741e-01 6.07985280e-01\n",
      " 7.47842699e-01 1.64125861e-01 2.77050044e-01 7.73726207e-01\n",
      " 9.58729280e-01 5.89951095e-01 9.91727376e-02 7.83242490e-01\n",
      " 3.54980252e-01 5.61281466e-02 4.12741964e-01 2.79444610e-02\n",
      " 7.65729943e-01 8.17985193e-01 2.33326446e-01 1.31561829e-01\n",
      " 2.36379429e-01 6.06272945e-01 1.81129386e-01 6.82991226e-01\n",
      " 3.42196976e-01 9.52273821e-01 6.21385311e-01 6.48560419e-01\n",
      " 8.71840485e-01 5.66922801e-01 6.60034675e-01 5.43520527e-01\n",
      " 7.57634731e-02 3.94987868e-01 7.07788146e-01 8.74600656e-01\n",
      " 6.93405492e-02 9.92772719e-01 5.16211727e-01 7.41887917e-01\n",
      " 6.02303091e-01 5.92638883e-01 2.44371931e-01 1.30737185e-01\n",
      " 6.30296616e-01 8.04627931e-01 5.18133099e-01 1.30403079e-01\n",
      " 4.44252000e-01 4.18911174e-02 1.81811489e-01 6.77031006e-01\n",
      " 7.11731463e-01 8.46521028e-01 5.37476721e-01 2.52571221e-01\n",
      " 1.34578955e-01 1.73347526e-02 8.90136533e-01 6.43819472e-01\n",
      " 8.65139072e-01 7.05473157e-02 7.44297732e-01 8.55337956e-01\n",
      " 4.98177150e-01 9.88919391e-01 2.20492152e-01 9.60561915e-01\n",
      " 1.82026568e-01 6.03728983e-01 6.86125200e-01 4.17607568e-01\n",
      " 1.86237990e-01 4.53676452e-01 9.56088487e-01 2.47223553e-01\n",
      " 2.08347645e-01 5.83696888e-01 6.30079078e-01 3.75001627e-01\n",
      " 9.11949826e-01 1.33958545e-01 5.35656631e-02 5.85772087e-01\n",
      " 7.41307677e-01 4.47040405e-01 2.82179190e-01 5.74993952e-01\n",
      " 4.58628732e-01 7.46187983e-01 9.78181265e-01 8.79124873e-02\n",
      " 9.16345053e-01 2.26933128e-01 8.62353541e-01 6.92786061e-01\n",
      " 4.12316094e-01 2.05492654e-01 4.70096684e-01 9.96815278e-01\n",
      " 4.08109121e-01 5.08458340e-02 6.62322214e-01 2.72953629e-01\n",
      " 7.71644408e-02 5.02744099e-01 8.97858801e-01 4.54507684e-01\n",
      " 3.95437505e-01 7.86654213e-01 3.54519984e-01 1.03495375e-01\n",
      " 2.33254100e-01 7.65142437e-01 1.57326252e-01 7.50528308e-01\n",
      " 6.72005131e-02 1.37579298e-01 6.03619302e-01 2.65780131e-01\n",
      " 5.48950463e-01 9.91599978e-01 1.17223878e-01 9.50550624e-01\n",
      " 4.96848043e-01 3.74098749e-02 5.48996800e-01 9.27612777e-01\n",
      " 4.32868136e-01 2.10534944e-01 2.14618551e-01 5.66846670e-01\n",
      " 8.33718262e-01 3.73880318e-01 6.53177244e-01 5.67276511e-01\n",
      " 9.74241494e-01 5.47400062e-02 2.80887302e-01 8.68342261e-01\n",
      " 5.58635369e-01 7.81924671e-01 6.68873425e-01 3.82327833e-01\n",
      " 6.83654947e-01 7.75268102e-01 3.68174214e-01 8.88655482e-01\n",
      " 1.67164759e-01 7.44851505e-01 3.93522785e-01 3.60490214e-01\n",
      " 2.45365476e-01 7.66429046e-01 4.31353783e-02 1.93417069e-01\n",
      " 4.92562272e-01 1.01388272e-01 4.96652971e-01 4.88322412e-01\n",
      " 7.97770331e-01 1.25638788e-01 8.85776875e-01 2.21179513e-01\n",
      " 8.65089977e-02 8.36389069e-01 7.91681526e-01 2.19977175e-01\n",
      " 2.10344295e-01 1.93807326e-01 9.48573152e-01 4.41138650e-01\n",
      " 7.62121127e-01 1.73889145e-02 5.21844829e-03 4.03034941e-01\n",
      " 9.53503626e-01 4.87123825e-01 2.78822249e-01 8.12829989e-01\n",
      " 5.71043654e-01 1.01922690e-01 5.68515233e-01 5.15724896e-01\n",
      " 9.46406596e-01 6.22377096e-01 8.37769068e-01 3.59579692e-01\n",
      " 8.37615592e-01 6.10890917e-01 5.21910051e-01 5.63383446e-01\n",
      " 5.52355044e-01 2.26655414e-01 1.15327989e-01 2.32274951e-01\n",
      " 4.42685425e-01 5.47861556e-01 7.00038591e-02 4.23134935e-01\n",
      " 2.18775383e-01 9.64031633e-01 8.72916789e-01 4.18094146e-01\n",
      " 8.23742798e-01 1.84635020e-01 3.47633550e-01 6.74132672e-01\n",
      " 2.90455928e-01 4.18537037e-01 8.07767159e-01 6.79862759e-01\n",
      " 7.25303132e-01 1.60990630e-01 7.34830922e-01 2.59440937e-01\n",
      " 9.25092092e-01 2.13026511e-01 6.02447770e-01 9.57795952e-01\n",
      " 1.30926483e-01 8.05549993e-01 2.84485862e-01 6.64331177e-01\n",
      " 4.83169640e-01 2.40765832e-02 1.08677600e-01 3.67722526e-01\n",
      " 5.49249358e-01 8.60931717e-01 9.40258818e-02 2.17328039e-01\n",
      " 2.73529244e-01 9.66110148e-01 5.45527901e-01 3.02036509e-01\n",
      " 5.47544684e-01 4.55480576e-01 9.61043546e-02 4.24593104e-01\n",
      " 4.38248833e-01 8.02403886e-01 6.03618406e-01 1.29957952e-01\n",
      " 3.14630713e-01 2.17323165e-02 1.34319837e-01 5.46856838e-02\n",
      " 5.72039648e-01 8.34482822e-01 6.12350358e-01 8.51989196e-01\n",
      " 7.65755396e-01 5.13235621e-02 9.48588624e-01 5.80646940e-01\n",
      " 2.28832217e-01 1.04038849e-01 9.52368525e-01 2.94694398e-01\n",
      " 2.28140696e-01 5.08515225e-01 4.84448545e-01 9.71779270e-01\n",
      " 7.10984029e-01 6.08419158e-03 6.20195497e-01 8.46701517e-01\n",
      " 4.77371225e-01 7.39875251e-01 3.26361717e-01 5.05044185e-01\n",
      " 4.67225561e-01 8.72834570e-01 8.91409075e-01 2.00164352e-01\n",
      " 2.72260885e-02 4.05837024e-02 8.80621550e-01 4.93818829e-01\n",
      " 4.60089810e-02 1.58151396e-01 2.02486414e-02 7.83903882e-02\n",
      " 2.72455180e-01 2.92478130e-02 8.81102050e-01 6.43358908e-01\n",
      " 1.33096186e-01 7.37577723e-01 7.27202543e-01 6.88076362e-02\n",
      " 5.63988694e-02 9.90356931e-01 8.74363272e-01 4.58553537e-01\n",
      " 2.18334938e-02 3.51561552e-01 5.78839321e-01 6.39170459e-01\n",
      " 9.99575877e-01 8.80819370e-01 1.94255221e-01 2.42795541e-01\n",
      " 3.92701593e-03 4.52635091e-01 3.65857893e-01 4.91467975e-01\n",
      " 9.94644265e-01 1.84484813e-01 4.80725011e-01 3.58652194e-01\n",
      " 3.91085621e-01 2.07440874e-02 4.32578096e-01 8.14685262e-01\n",
      " 2.71740347e-01 4.48362795e-01 4.45778060e-01 7.69169897e-01\n",
      " 9.77023069e-01 5.65554479e-02 5.82251299e-01 7.85112305e-01\n",
      " 5.63392702e-01 6.35328280e-01 3.47051846e-01 2.13523943e-01\n",
      " 8.59007577e-01 5.37498236e-01 1.45744604e-02 4.43360881e-01\n",
      " 3.88473262e-01 4.83198327e-01 3.58282908e-01 8.11107859e-01\n",
      " 2.21581548e-01 7.81078737e-01 6.44078317e-01 3.54899309e-02\n",
      " 9.71146792e-01 5.36191907e-02 9.87611627e-01 2.86698456e-01\n",
      " 3.39812451e-01 7.85923687e-01 3.23506254e-01 7.58334079e-01\n",
      " 9.55364934e-01 2.89074180e-01 4.02504668e-02 6.35074896e-01\n",
      " 4.07914171e-01 2.62302132e-01 6.33813174e-01 2.28379208e-01\n",
      " 7.39211806e-01 9.04839491e-01 6.70802419e-01 2.01044800e-01\n",
      " 2.33198520e-02 9.50237653e-01 5.22280503e-02 4.31110004e-01\n",
      " 8.25699287e-01 7.54550935e-01 7.47188783e-01 2.67806003e-01\n",
      " 3.17937612e-01 4.25031839e-01 6.94713189e-01 2.76210995e-01\n",
      " 4.47454769e-01 5.39144548e-01 8.15140986e-01 1.54689047e-01\n",
      " 9.38173821e-01 9.77928882e-02 8.52461690e-01 9.67836963e-01\n",
      " 1.60758353e-01 2.77154765e-01 6.90912594e-01 7.22946548e-01\n",
      " 5.53932083e-01 7.50286626e-01 6.33978052e-01 5.37359214e-02\n",
      " 6.66419507e-03 3.00282970e-01 1.71095173e-01 8.73341790e-01\n",
      " 7.85382837e-01 1.51323178e-01 6.35613037e-01 3.14342352e-01\n",
      " 4.64320502e-01 9.14695281e-01 6.07905105e-01 6.41021892e-01\n",
      " 1.11457984e-01 8.12242905e-01 5.17985657e-01 3.62735286e-03\n",
      " 4.12590089e-01 6.26345553e-01 2.65487106e-01 5.62446629e-01\n",
      " 9.69698314e-01 8.79377859e-01 7.17383704e-01 2.86141261e-01\n",
      " 2.29046325e-01 4.24311807e-01 9.21651047e-01 9.60661329e-01\n",
      " 1.75320531e-01 2.46943711e-01 3.12493931e-01 7.58252539e-01\n",
      " 2.24417290e-01 7.65298995e-01 8.09595406e-02 4.17252376e-01\n",
      " 2.75447833e-01 7.59728963e-01 2.00212735e-01 9.45239023e-01\n",
      " 3.41898431e-01 3.52189192e-01 8.39145613e-03 9.67653252e-01\n",
      " 5.62493550e-01 8.92094426e-01 4.42359522e-01 4.09397935e-01\n",
      " 7.95469515e-01 7.07882609e-01 6.53464134e-01 4.03223778e-01\n",
      " 4.12859011e-01 9.87685251e-01 4.04070263e-01 8.61426599e-01\n",
      " 8.53535017e-01 5.50951588e-02 8.76583789e-01 6.06700393e-02\n",
      " 5.53898353e-01 9.40414176e-01 5.20751310e-01 7.47728055e-01\n",
      " 1.85187399e-01 9.37451941e-01 9.07914776e-01 6.35997731e-01\n",
      " 9.96813463e-01 8.47874802e-01 3.11893052e-01 5.89801788e-01\n",
      " 5.28623060e-01 5.58506745e-01 3.76053118e-01 2.61958153e-02\n",
      " 3.78056467e-01 5.49980105e-01 1.82137396e-02 8.49489608e-01\n",
      " 3.29480719e-01 2.92473523e-01 7.90911966e-01 2.90173309e-01\n",
      " 1.13551232e-01 2.74331013e-01 2.22348969e-01 4.23433444e-01\n",
      " 3.98339069e-02 2.29471614e-01 2.60780471e-01 7.69437147e-01\n",
      " 2.60437534e-01 2.80781640e-01 4.32750906e-01 9.61825272e-01\n",
      " 3.90690867e-01 8.09214660e-01 7.07525969e-01 1.76820932e-02\n",
      " 6.56479530e-01 4.87679075e-01 8.31396760e-01 8.06267673e-01\n",
      " 8.68210155e-02 7.79137344e-01 8.28541487e-01 5.44114976e-01\n",
      " 3.31538960e-01 9.44605457e-01 1.55143985e-01 2.40106447e-01\n",
      " 4.97458072e-02 6.76774109e-01 6.92709254e-01 2.10349786e-01\n",
      " 2.25600112e-01 6.09398436e-01 1.75976116e-01 4.15053964e-01\n",
      " 9.06934909e-01 2.06521526e-01 5.12150810e-01 2.95343899e-01\n",
      " 6.86367249e-01 8.69636113e-01 6.91192136e-01 6.19545121e-01\n",
      " 3.08910159e-01 2.69604678e-01 7.26180241e-01 8.57310568e-01\n",
      " 3.78278655e-01 4.02853592e-01 8.75894266e-01 7.47258891e-01\n",
      " 5.44810256e-01 7.43891045e-01 2.74627504e-01 7.05816816e-01\n",
      " 6.94793153e-01 5.08702561e-01 3.93762528e-01 6.84233836e-01\n",
      " 9.65286215e-01 6.12844857e-01 1.50560767e-01 4.28622165e-01\n",
      " 7.24804718e-01 1.26914519e-01 9.14317519e-01 5.40468000e-01\n",
      " 4.88237574e-01 4.13392040e-01 7.35472513e-01 1.97407631e-01\n",
      " 7.73264126e-01 1.78457564e-01 8.46946532e-01 5.18376854e-01\n",
      " 5.70732803e-01 1.26275537e-01 3.99103292e-01 4.98686829e-01\n",
      " 5.20400336e-01 6.60291895e-01 1.79926512e-02 1.65563878e-01\n",
      " 8.71374963e-01 7.83936931e-01 2.79975972e-01 4.23221441e-01\n",
      " 4.68830147e-01 2.14170775e-01 4.31350052e-01 1.43875593e-02\n",
      " 5.96707493e-02 7.35531159e-01 2.40232322e-01 8.65090755e-01\n",
      " 8.71903146e-01 6.29033788e-01 4.58028337e-01 3.77689296e-01\n",
      " 7.82656832e-01 7.58385230e-01 1.29287818e-01 4.17505282e-01\n",
      " 4.11615379e-01 9.35165414e-01 5.67976364e-01 3.90337718e-01\n",
      " 2.47228261e-01 5.36568840e-01 3.00945606e-01 8.99154287e-01\n",
      " 6.61546236e-01 6.21055143e-01 7.58019569e-01 3.72349181e-01\n",
      " 1.20174778e-02 2.36334958e-01 7.20075900e-02 6.30280567e-01\n",
      " 3.06383992e-01 9.00591850e-01 4.39295901e-01 5.47237706e-01\n",
      " 7.96155699e-01 7.04343214e-01 4.77727979e-01 1.66398223e-02\n",
      " 9.26294918e-01 8.63362388e-01 4.69631122e-01 6.88301131e-01\n",
      " 6.75724010e-01 5.79731970e-01 5.19541684e-01 7.51176551e-01\n",
      " 8.10611953e-01 5.77730523e-01 7.59916798e-02 2.71160712e-01\n",
      " 6.12428061e-01 9.15551788e-01 7.94164352e-01 2.63587077e-01\n",
      " 7.83493874e-01 2.41077781e-02 4.95420303e-01 7.23686299e-01\n",
      " 6.94429868e-02 7.91811768e-01 6.16986480e-01 6.79935238e-01\n",
      " 3.60649220e-01 1.92609941e-01 6.94778138e-01 8.62138619e-01\n",
      " 7.79913148e-01 2.69289704e-01 7.38692088e-01 7.99018218e-01\n",
      " 1.69995517e-01 2.11814661e-01 7.76495761e-01 4.67989977e-01\n",
      " 8.08673325e-01 8.03824435e-01 7.91018422e-01 2.61008257e-01\n",
      " 1.68376814e-01 4.77626599e-01 3.44865278e-01 2.09561436e-01\n",
      " 2.39426008e-02 6.27287493e-01 8.13670560e-01 5.84995663e-01\n",
      " 4.52912173e-01 5.61603491e-01 7.32138671e-01 3.96075813e-03\n",
      " 4.46149023e-01 1.14378629e-01 3.09806944e-01 8.20317471e-01\n",
      " 9.04298094e-02 5.07797092e-01 3.29453441e-01 6.53336727e-01\n",
      " 8.49778090e-01 9.74610637e-01 2.11639735e-01 7.23640494e-01\n",
      " 8.82168636e-02 7.82339465e-01 9.11936910e-01 4.55000198e-01\n",
      " 4.49452202e-01 8.19807237e-02 3.13042389e-01 8.27725430e-01\n",
      " 3.03076342e-01 5.91644587e-02 4.83721227e-01 7.72190348e-01\n",
      " 7.50848638e-01 2.44103921e-01 3.37833166e-02 6.90155015e-01\n",
      " 5.29477519e-01 2.31895771e-01 2.67669790e-01 5.38612623e-01\n",
      " 7.17220577e-01 6.56918930e-02 4.60794481e-01 7.22914193e-01\n",
      " 9.35245162e-01 3.69755743e-01 8.53887916e-01 9.15053123e-01\n",
      " 3.74060059e-01 2.66019035e-01 2.82417667e-01 8.55429224e-01\n",
      " 6.27409466e-01 5.44039138e-01 9.04822475e-01 6.45378233e-01\n",
      " 4.67727698e-01 7.55867244e-01 6.28647416e-01 1.48227622e-01\n",
      " 6.54144719e-01 9.36472812e-01 3.89034250e-01 8.13332409e-02\n",
      " 3.39703877e-01 4.94371617e-01 4.44273830e-01 7.44720587e-01\n",
      " 9.39192235e-01 8.06289426e-01 3.72552023e-01 9.30914228e-01\n",
      " 6.10391623e-01 1.58845583e-01 2.80802869e-01 4.28150611e-01\n",
      " 1.08675134e-01 2.26469324e-01 3.08298238e-02 8.48589888e-01\n",
      " 7.47561373e-01 7.44018742e-01 1.48473332e-01 2.36077958e-02\n",
      " 9.14793427e-01 9.64443129e-01 1.28442003e-01 1.59635704e-01\n",
      " 1.07474584e-01 8.54679798e-01 7.47646275e-01 8.24288983e-01\n",
      " 5.33308835e-01 9.85269041e-02 1.79089999e-01 3.31115554e-01\n",
      " 6.47951578e-01 1.69550435e-01 9.63433543e-01 8.22957895e-01\n",
      " 6.06153953e-01 2.58092254e-01 7.07835406e-01 3.04490177e-01\n",
      " 7.49453685e-01 6.22696826e-01 1.42231695e-02 9.65304424e-01\n",
      " 6.71104228e-02 6.38832058e-02 2.84282453e-01 7.37504666e-01\n",
      " 4.72242248e-01 8.81822506e-01 7.45776362e-01 2.86390755e-01\n",
      " 3.06351477e-01 9.82690455e-01 5.96960079e-01 7.11230345e-01\n",
      " 5.15457820e-01 4.50001881e-01 7.58245389e-01 1.51190104e-01\n",
      " 3.97208231e-01 9.36036501e-01 9.33189442e-01 5.44875641e-01\n",
      " 7.81551337e-01 4.79017867e-01 4.32344467e-01 2.41088281e-02\n",
      " 9.41750998e-01 7.68072676e-01 4.55700817e-01 8.01141269e-01\n",
      " 3.42238681e-01 7.01826580e-01 2.79308416e-01 7.65679883e-01\n",
      " 7.33462406e-01 5.86699037e-01 5.40216319e-01 9.77137739e-01\n",
      " 9.11342255e-01 9.50038521e-01 6.21106990e-02 5.39495748e-01\n",
      " 5.86918096e-01 1.80244048e-01 4.06054428e-01 7.15904613e-01\n",
      " 6.73605601e-01 8.93651289e-01 7.29313522e-01 5.91114510e-01\n",
      " 6.50647900e-01 2.32962949e-01 8.25067857e-01 6.16076385e-01\n",
      " 2.42678352e-03 2.82204578e-01 6.19562151e-01 3.08387611e-01\n",
      " 9.55152199e-01 9.76134379e-01 3.91810086e-03 1.71852890e-02\n",
      " 5.72787453e-01 1.58574740e-01 5.59979841e-01 5.01356777e-01\n",
      " 4.07657022e-01 2.64755686e-01 3.83371521e-01 4.99405344e-01\n",
      " 4.57740003e-01 6.07611653e-01 1.54353249e-02 8.24165114e-01\n",
      " 1.90190439e-01 7.77607286e-01 2.04449300e-01 5.62050002e-01\n",
      " 6.02410670e-01 2.96228043e-01 9.84767894e-01 4.77979149e-01\n",
      " 7.23352238e-01 9.02524276e-01 3.32857674e-02 9.79836910e-01\n",
      " 4.74761713e-01 7.90499993e-01 9.46441682e-01 4.93569876e-01\n",
      " 7.35613012e-01 1.55645935e-01 6.92392231e-01 7.97883435e-01\n",
      " 4.95109901e-01 7.39027653e-03 5.85567468e-01 1.23161972e-01\n",
      " 7.74049099e-01 3.94464937e-02 8.78554699e-01 7.79413001e-01\n",
      " 6.71700616e-01 2.65507663e-01 7.37830136e-01 6.02316897e-01\n",
      " 5.49194228e-01 8.46944756e-01 6.54604882e-01 1.10434906e-01\n",
      " 7.02775426e-01 5.68929923e-01 6.92925801e-02 3.77183679e-01\n",
      " 9.12623376e-01 7.51382061e-01 2.49768393e-01 8.06971571e-01\n",
      " 4.79579782e-01 3.36428191e-01 4.39577180e-01 4.10062636e-01\n",
      " 9.22531594e-01 4.56088937e-01 9.20336100e-01 1.28295584e-01\n",
      " 1.57831923e-01 1.30889187e-01 3.17510419e-01 9.37394837e-01]\n"
     ]
    },
    {
     "data": {
      "text/plain": [
       "(array([ 4., 16.,  7., 11.,  9.,  7.,  9., 10., 10., 17.]),\n",
       " array([10.12236185, 10.60561864, 11.08887542, 11.5721322 , 12.05538898,\n",
       "        12.53864576, 13.02190254, 13.50515932, 13.9884161 , 14.47167289,\n",
       "        14.95492967]),\n",
       " <BarContainer object of 10 artists>)"
      ]
     },
     "execution_count": 5,
     "metadata": {},
     "output_type": "execute_result"
    },
    {
     "data": {
      "image/png": "[encoded data removed]",
      "text/plain": [
       "<Figure size 432x288 with 2 Axes>"
      ]
     },
     "metadata": {
      "needs_background": "light"
     },
     "output_type": "display_data"
    }
   ],
   "source": [
    "def value(bottom, ceiling, count):\n",
    "    x = stats.uniform.rvs(size=count)\n",
    "    print(x)\n",
    "    a = bottom\n",
    "    b = ceiling\n",
    "    randoms = a + (b-a)*x\n",
    "    return randoms\n",
    "\n",
    "x = value(bottom=10, ceiling=15, count=100)\n",
    "y= value(bottom=10, ceiling=60, count=1000)\n",
    "\n",
    "fig, (ax1, ax2) = plt.subplots(1, 2, sharey=True)\n",
    "ax1.hist(y)\n",
    "ax2.hist(x)"
   ]
  },
  {
   "cell_type": "markdown",
   "metadata": {},
   "source": [
    "How are the two distributions different?"
   ]
  },
  {
   "cell_type": "code",
   "execution_count": 6,
   "metadata": {},
   "outputs": [],
   "source": [
    "# they are different in the range of values"
   ]
  },
  {
   "cell_type": "markdown",
   "metadata": {},
   "source": [
    "## Normal Distribution\n",
    "\n",
    "1. In the same way in the Uniform Distribution challenge, write a function that generates normally distributed random numbers.\n",
    "1. Generate 1,000 normally distributed numbers with the average of 10 and standard deviation of 1\n",
    "1. Generate 1,000 normally distributed numbers with the average of 10 and standard deviation of 50\n",
    "2. Plot the distributions of the data generated.\n",
    "\n",
    "Expected output:\n",
    "\n",
    "![normal distribution](nd.png)"
   ]
  },
  {
   "cell_type": "code",
   "execution_count": 7,
   "metadata": {},
   "outputs": [
    {
     "data": {
      "text/plain": [
       "(array([ 2.,  1.,  2.,  0.,  2.,  3.,  5.,  7.,  6., 13., 11., 16., 28.,\n",
       "        19., 29., 32., 29., 54., 46., 57., 50., 64., 64., 41., 51., 47.,\n",
       "        42., 43., 44., 41., 24., 27., 22., 18., 22., 11., 13.,  8.,  1.,\n",
       "         2.,  1.,  1.,  0.,  0.,  0.,  0.,  0.,  0.,  0.,  1.]),\n",
       " array([-146.23495179, -139.28995465, -132.34495751, -125.39996038,\n",
       "        -118.45496324, -111.5099661 , -104.56496897,  -97.61997183,\n",
       "         -90.6749747 ,  -83.72997756,  -76.78498042,  -69.83998329,\n",
       "         -62.89498615,  -55.94998902,  -49.00499188,  -42.05999474,\n",
       "         -35.11499761,  -28.17000047,  -21.22500334,  -14.2800062 ,\n",
       "          -7.33500906,   -0.39001193,    6.55498521,   13.49998234,\n",
       "          20.44497948,   27.38997662,   34.33497375,   41.27997089,\n",
       "          48.22496802,   55.16996516,   62.1149623 ,   69.05995943,\n",
       "          76.00495657,   82.94995371,   89.89495084,   96.83994798,\n",
       "         103.78494511,  110.72994225,  117.67493939,  124.61993652,\n",
       "         131.56493366,  138.50993079,  145.45492793,  152.39992507,\n",
       "         159.3449222 ,  166.28991934,  173.23491647,  180.17991361,\n",
       "         187.12491075,  194.06990788,  201.01490502]),\n",
       " <BarContainer object of 50 artists>)"
      ]
     },
     "execution_count": 7,
     "metadata": {},
     "output_type": "execute_result"
    },
    {
     "data": {
      "image/png": "[encoded data removed]",
      "text/plain": [
       "<Figure size 432x288 with 2 Axes>"
      ]
     },
     "metadata": {
      "needs_background": "light"
     },
     "output_type": "display_data"
    }
   ],
   "source": [
    "def normal(mean, std):\n",
    "    normal = stats.norm(mean, std) \n",
    "    return normal.rvs(size=1000)\n",
    "\n",
    "n1 = normal(10, 1)\n",
    "n2 = normal(10, 50)\n",
    "\n",
    "fig, (ax1, ax2) = plt.subplots(1, 2, sharey = True)\n",
    "ax1.hist(n1, bins=50)\n",
    "ax2.hist(n2, bins=50)"
   ]
  },
  {
   "cell_type": "markdown",
   "metadata": {},
   "source": [
    "How are the two distributions different?"
   ]
  },
  {
   "cell_type": "code",
   "execution_count": 8,
   "metadata": {},
   "outputs": [],
   "source": [
    "#both are different in their range of values "
   ]
  },
  {
   "cell_type": "markdown",
   "metadata": {},
   "source": [
    "## Normal Distribution of Real Data\n",
    "\n",
    "In this challenge we are going to take a look the real data. We will use vehicles.csv file for this exercise"
   ]
  },
  {
   "cell_type": "markdown",
   "metadata": {},
   "source": [
    "First import vehicles.csv.\n",
    "Then plot the histograms for the following variables:\n",
    "\n",
    "1. Fuel Barrels/Year"
   ]
  },
  {
   "cell_type": "code",
   "execution_count": 12,
   "metadata": {},
   "outputs": [
    {
     "data": {
      "text/html": [
       "<div>\n",
       "<style scoped>\n",
       "    .dataframe tbody tr th:only-of-type {\n",
       "        vertical-align: middle;\n",
       "    }\n",
       "\n",
       "    .dataframe tbody tr th {\n",
       "        vertical-align: top;\n",
       "    }\n",
       "\n",
       "    .dataframe thead th {\n",
       "        text-align: right;\n",
       "    }\n",
       "</style>\n",
       "<table border=\"1\" class=\"dataframe\">\n",
       "  <thead>\n",
       "    <tr style=\"text-align: right;\">\n",
       "      <th></th>\n",
       "      <th>Make</th>\n",
       "      <th>Model</th>\n",
       "      <th>Year</th>\n",
       "      <th>Engine Displacement</th>\n",
       "      <th>Cylinders</th>\n",
       "      <th>Transmission</th>\n",
       "      <th>Drivetrain</th>\n",
       "      <th>Vehicle Class</th>\n",
       "      <th>Fuel Type</th>\n",
       "      <th>Fuel Barrels/Year</th>\n",
       "      <th>City MPG</th>\n",
       "      <th>Highway MPG</th>\n",
       "      <th>Combined MPG</th>\n",
       "      <th>CO2 Emission Grams/Mile</th>\n",
       "      <th>Fuel Cost/Year</th>\n",
       "    </tr>\n",
       "  </thead>\n",
       "  <tbody>\n",
       "    <tr>\n",
       "      <th>0</th>\n",
       "      <td>AM General</td>\n",
       "      <td>DJ Po Vehicle 2WD</td>\n",
       "      <td>1984</td>\n",
       "      <td>2.5</td>\n",
       "      <td>4.0</td>\n",
       "      <td>Automatic 3-spd</td>\n",
       "      <td>2-Wheel Drive</td>\n",
       "      <td>Special Purpose Vehicle 2WD</td>\n",
       "      <td>Regular</td>\n",
       "      <td>19.388824</td>\n",
       "      <td>18</td>\n",
       "      <td>17</td>\n",
       "      <td>17</td>\n",
       "      <td>522.764706</td>\n",
       "      <td>1950</td>\n",
       "    </tr>\n",
       "    <tr>\n",
       "      <th>1</th>\n",
       "      <td>AM General</td>\n",
       "      <td>FJ8c Post Office</td>\n",
       "      <td>1984</td>\n",
       "      <td>4.2</td>\n",
       "      <td>6.0</td>\n",
       "      <td>Automatic 3-spd</td>\n",
       "      <td>2-Wheel Drive</td>\n",
       "      <td>Special Purpose Vehicle 2WD</td>\n",
       "      <td>Regular</td>\n",
       "      <td>25.354615</td>\n",
       "      <td>13</td>\n",
       "      <td>13</td>\n",
       "      <td>13</td>\n",
       "      <td>683.615385</td>\n",
       "      <td>2550</td>\n",
       "    </tr>\n",
       "  </tbody>\n",
       "</table>\n",
       "</div>"
      ],
      "text/plain": [
       "         Make              Model  Year  Engine Displacement  Cylinders  \\\n",
       "0  AM General  DJ Po Vehicle 2WD  1984                  2.5        4.0   \n",
       "1  AM General   FJ8c Post Office  1984                  4.2        6.0   \n",
       "\n",
       "      Transmission     Drivetrain                Vehicle Class Fuel Type  \\\n",
       "0  Automatic 3-spd  2-Wheel Drive  Special Purpose Vehicle 2WD   Regular   \n",
       "1  Automatic 3-spd  2-Wheel Drive  Special Purpose Vehicle 2WD   Regular   \n",
       "\n",
       "   Fuel Barrels/Year  City MPG  Highway MPG  Combined MPG  \\\n",
       "0          19.388824        18           17            17   \n",
       "1          25.354615        13           13            13   \n",
       "\n",
       "   CO2 Emission Grams/Mile  Fuel Cost/Year  \n",
       "0               522.764706            1950  \n",
       "1               683.615385            2550  "
      ]
     },
     "execution_count": 12,
     "metadata": {},
     "output_type": "execute_result"
    }
   ],
   "source": [
    "import pandas as pd\n",
    "data = pd.read_csv('vehicles.csv')\n",
    "data.head(2)"
   ]
  },
  {
   "cell_type": "markdown",
   "metadata": {},
   "source": [
    "2. CO2 Emission Grams/Mile "
   ]
  },
  {
   "cell_type": "code",
   "execution_count": 13,
   "metadata": {},
   "outputs": [
    {
     "data": {
      "text/plain": [
       "(array([9.000e+00, 2.100e+01, 2.800e+01, 2.130e+02, 5.950e+02, 2.410e+03,\n",
       "        4.016e+03, 7.043e+03, 6.377e+03, 5.770e+03, 2.459e+03, 2.422e+03,\n",
       "        1.980e+03, 1.262e+03, 7.120e+02, 4.430e+02, 3.000e+00, 1.270e+02,\n",
       "        0.000e+00, 3.600e+01, 0.000e+00, 2.100e+01, 0.000e+00, 0.000e+00,\n",
       "        5.000e+00]),\n",
       " array([  37.        ,   86.30285714,  135.60571429,  184.90857143,\n",
       "         234.21142857,  283.51428571,  332.81714286,  382.12      ,\n",
       "         431.42285714,  480.72571429,  530.02857143,  579.33142857,\n",
       "         628.63428571,  677.93714286,  727.24      ,  776.54285714,\n",
       "         825.84571429,  875.14857143,  924.45142857,  973.75428571,\n",
       "        1023.05714286, 1072.36      , 1121.66285714, 1170.96571429,\n",
       "        1220.26857143, 1269.57142857]),\n",
       " <BarContainer object of 25 artists>)"
      ]
     },
     "execution_count": 13,
     "metadata": {},
     "output_type": "execute_result"
    },
    {
     "data": {
      "image/png": "[encoded data removed]",
      "text/plain": [
       "<Figure size 432x288 with 1 Axes>"
      ]
     },
     "metadata": {
      "needs_background": "light"
     },
     "output_type": "display_data"
    }
   ],
   "source": [
    "plt.hist(vehicles['CO2 Emission Grams/Mile'], bins= 25)"
   ]
  },
  {
   "cell_type": "markdown",
   "metadata": {},
   "source": [
    "3. Combined MPG"
   ]
  },
  {
   "cell_type": "code",
   "execution_count": 14,
   "metadata": {},
   "outputs": [
    {
     "data": {
      "text/plain": [
       "(array([2.600e+01, 1.710e+02, 1.182e+03, 3.202e+03, 4.556e+03, 5.979e+03,\n",
       "        6.375e+03, 5.405e+03, 3.340e+03, 2.345e+03, 1.331e+03, 8.240e+02,\n",
       "        4.300e+02, 3.380e+02, 1.290e+02, 8.400e+01, 8.800e+01, 7.500e+01,\n",
       "        1.200e+01, 1.600e+01, 1.800e+01, 1.500e+01, 5.000e+00, 4.000e+00,\n",
       "        2.000e+00]),\n",
       " array([ 7.  ,  8.96, 10.92, 12.88, 14.84, 16.8 , 18.76, 20.72, 22.68,\n",
       "        24.64, 26.6 , 28.56, 30.52, 32.48, 34.44, 36.4 , 38.36, 40.32,\n",
       "        42.28, 44.24, 46.2 , 48.16, 50.12, 52.08, 54.04, 56.  ]),\n",
       " <BarContainer object of 25 artists>)"
      ]
     },
     "execution_count": 14,
     "metadata": {},
     "output_type": "execute_result"
    },
    {
     "data": {
      "image/png": "[encoded data removed]",
      "text/plain": [
       "<Figure size 432x288 with 1 Axes>"
      ]
     },
     "metadata": {
      "needs_background": "light"
     },
     "output_type": "display_data"
    }
   ],
   "source": [
    "plt.hist(vehicles['Combined MPG'], bins= 25)\n"
   ]
  },
  {
   "cell_type": "markdown",
   "metadata": {},
   "source": [
    "Which one(s) of the variables are nearly normally distributed? How do you know?"
   ]
  },
  {
   "cell_type": "code",
   "execution_count": null,
   "metadata": {},
   "outputs": [],
   "source": [
    "#I can't know until I do a test for normality "
   ]
  },
  {
   "cell_type": "markdown",
   "metadata": {},
   "source": [
    "## Exponential Distribution"
   ]
  },
  {
   "cell_type": "markdown",
   "metadata": {},
   "source": [
    "1. Using `numpy.random.exponential`, create a function that returns a list of numbers exponentially distributed with the mean of 10. \n",
    "\n",
    "1. Use the function to generate two number sequences with a mean of 1 and 100 and a size of 1000.\n",
    "\n",
    "1. Plot the distributions as histograms with the number of bins as 100.\n",
    "\n",
    "Your output should look like below:\n",
    "\n",
    "![exponential distribution](ed.png)"
   ]
  },
  {
   "cell_type": "code",
   "execution_count": 18,
   "metadata": {},
   "outputs": [
    {
     "data": {
      "text/plain": [
       "(array([73., 62., 80., 49., 54., 48., 35., 55., 44., 32., 28., 27., 24.,\n",
       "        20., 28., 17., 24., 23., 32., 15., 12., 22.,  9., 11., 13.,  9.,\n",
       "         7.,  7., 10., 11., 11.,  3., 10.,  6.,  7.,  6.,  4.,  4.,  4.,\n",
       "         6.,  6.,  2.,  5.,  3.,  2.,  3.,  4.,  1.,  4.,  3.,  1.,  0.,\n",
       "         1.,  3.,  1.,  1.,  0.,  1.,  1.,  2.,  0.,  2.,  0.,  0.,  2.,\n",
       "         2.,  0.,  0.,  0.,  0.,  1.,  0.,  0.,  2.,  1.,  0.,  0.,  2.,\n",
       "         0.,  0.,  0.,  0.,  0.,  0.,  0.,  0.,  0.,  0.,  0.,  0.,  0.,\n",
       "         0.,  1.,  0.,  0.,  0.,  0.,  0.,  0.,  1.]),\n",
       " array([8.57432404e-03, 7.33139060e+00, 1.46542069e+01, 2.19770231e+01,\n",
       "        2.92998394e+01, 3.66226557e+01, 4.39454720e+01, 5.12682882e+01,\n",
       "        5.85911045e+01, 6.59139208e+01, 7.32367371e+01, 8.05595533e+01,\n",
       "        8.78823696e+01, 9.52051859e+01, 1.02528002e+02, 1.09850818e+02,\n",
       "        1.17173635e+02, 1.24496451e+02, 1.31819267e+02, 1.39142084e+02,\n",
       "        1.46464900e+02, 1.53787716e+02, 1.61110532e+02, 1.68433349e+02,\n",
       "        1.75756165e+02, 1.83078981e+02, 1.90401797e+02, 1.97724614e+02,\n",
       "        2.05047430e+02, 2.12370246e+02, 2.19693063e+02, 2.27015879e+02,\n",
       "        2.34338695e+02, 2.41661511e+02, 2.48984328e+02, 2.56307144e+02,\n",
       "        2.63629960e+02, 2.70952776e+02, 2.78275593e+02, 2.85598409e+02,\n",
       "        2.92921225e+02, 3.00244042e+02, 3.07566858e+02, 3.14889674e+02,\n",
       "        3.22212490e+02, 3.29535307e+02, 3.36858123e+02, 3.44180939e+02,\n",
       "        3.51503755e+02, 3.58826572e+02, 3.66149388e+02, 3.73472204e+02,\n",
       "        3.80795021e+02, 3.88117837e+02, 3.95440653e+02, 4.02763469e+02,\n",
       "        4.10086286e+02, 4.17409102e+02, 4.24731918e+02, 4.32054734e+02,\n",
       "        4.39377551e+02, 4.46700367e+02, 4.54023183e+02, 4.61346000e+02,\n",
       "        4.68668816e+02, 4.75991632e+02, 4.83314448e+02, 4.90637265e+02,\n",
       "        4.97960081e+02, 5.05282897e+02, 5.12605713e+02, 5.19928530e+02,\n",
       "        5.27251346e+02, 5.34574162e+02, 5.41896979e+02, 5.49219795e+02,\n",
       "        5.56542611e+02, 5.63865427e+02, 5.71188244e+02, 5.78511060e+02,\n",
       "        5.85833876e+02, 5.93156692e+02, 6.00479509e+02, 6.07802325e+02,\n",
       "        6.15125141e+02, 6.22447958e+02, 6.29770774e+02, 6.37093590e+02,\n",
       "        6.44416406e+02, 6.51739223e+02, 6.59062039e+02, 6.66384855e+02,\n",
       "        6.73707671e+02, 6.81030488e+02, 6.88353304e+02, 6.95676120e+02,\n",
       "        7.02998937e+02, 7.10321753e+02, 7.17644569e+02, 7.24967385e+02,\n",
       "        7.32290202e+02]),\n",
       " <BarContainer object of 100 artists>)"
      ]
     },
     "execution_count": 18,
     "metadata": {},
     "output_type": "execute_result"
    },
    {
     "data": {
      "image/png": "[encoded data removed]",
      "text/plain": [
       "<Figure size 432x288 with 2 Axes>"
      ]
     },
     "metadata": {
      "needs_background": "light"
     },
     "output_type": "display_data"
    }
   ],
   "source": [
    "def expon(mean):\n",
    "    return np.random.exponential(mean, 1000)\n",
    "\n",
    "x = expon(1)\n",
    "y = expon(100)\n",
    "fig, (ax1, ax2) = plt.subplots(1, 2, sharey = True)\n",
    "ax1.hist(x, bins=100)\n",
    "ax2.hist(y, bins=100)"
   ]
  },
  {
   "cell_type": "markdown",
   "metadata": {},
   "source": [
    "How are the two distributions different?"
   ]
  },
  {
   "cell_type": "code",
   "execution_count": null,
   "metadata": {},
   "outputs": [],
   "source": [
    "# I dont see a big difference"
   ]
  },
  {
   "cell_type": "markdown",
   "metadata": {},
   "source": [
    "## Exponential Distribution of Real Data\n",
    "\n",
    "Suppose that the amount of time one spends in a bank is exponentially distributed with mean as 10 minutes (i.e. λ = 1/10). What is the probability that a customer will spend less than fifteen minutes in the bank? \n",
    "\n",
    "Write a code in python to solve this problem"
   ]
  },
  {
   "cell_type": "code",
   "execution_count": 22,
   "metadata": {},
   "outputs": [
    {
     "name": "stdout",
     "output_type": "stream",
     "text": [
      "0.7768698398515702\n"
     ]
    }
   ],
   "source": [
    "# your answer here\n",
    "# Hint: This is same as saying P(x<15)\n",
    "\n",
    "lamb = 1/10\n",
    "exp = stats.expon(scale=10)\n",
    "print(exp.cdf(15))  "
   ]
  },
  {
   "cell_type": "markdown",
   "metadata": {},
   "source": [
    "What is the probability that the customer will spend more than 15 minutes"
   ]
  },
  {
   "cell_type": "code",
   "execution_count": 23,
   "metadata": {},
   "outputs": [
    {
     "data": {
      "text/plain": [
       "0.2231301601484298"
      ]
     },
     "execution_count": 23,
     "metadata": {},
     "output_type": "execute_result"
    }
   ],
   "source": [
    "1 - exp.cdf(15)\n"
   ]
  },
  {
   "cell_type": "code",
   "execution_count": null,
   "metadata": {},
   "outputs": [],
   "source": []
  }
 ],
 "metadata": {
  "kernelspec": {
   "display_name": "Python 3",
   "language": "python",
   "name": "python3"
  },
  "language_info": {
   "codemirror_mode": {
    "name": "ipython",
    "version": 3
   },
   "file_extension": ".py",
   "mimetype": "text/x-python",
   "name": "python",
   "nbconvert_exporter": "python",
   "pygments_lexer": "ipython3",
   "version": "3.8.8"
  }
 },
 "nbformat": 4,
 "nbformat_minor": 2
}
